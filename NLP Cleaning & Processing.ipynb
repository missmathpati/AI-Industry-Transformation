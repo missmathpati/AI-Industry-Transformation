{
 "cells": [
  {
   "cell_type": "markdown",
   "id": "c4a66b4d-b81c-4d08-a1b0-f00e4f37dabe",
   "metadata": {},
   "source": [
    "### Name: Akanksha Mathpati "
   ]
  },
  {
   "cell_type": "markdown",
   "id": "3e319f92-de9a-4fa8-bd5d-bf337c193f5a",
   "metadata": {},
   "source": [
    "#### Data Cleaning"
   ]
  },
  {
   "cell_type": "code",
   "execution_count": 1,
   "id": "a337fb05-be25-4f95-ab69-413edd2d8d30",
   "metadata": {},
   "outputs": [
    {
     "name": "stdout",
     "output_type": "stream",
     "text": [
      "Requirement already satisfied: numpy in /opt/anaconda3/lib/python3.12/site-packages (1.26.4)\n",
      "Collecting numpy\n",
      "  Using cached numpy-2.2.6-cp312-cp312-macosx_14_0_arm64.whl.metadata (62 kB)\n",
      "Using cached numpy-2.2.6-cp312-cp312-macosx_14_0_arm64.whl (5.1 MB)\n",
      "Installing collected packages: numpy\n",
      "  Attempting uninstall: numpy\n",
      "    Found existing installation: numpy 1.26.4\n",
      "    Uninstalling numpy-1.26.4:\n",
      "      Successfully uninstalled numpy-1.26.4\n",
      "\u001b[31mERROR: pip's dependency resolver does not currently take into account all the packages that are installed. This behaviour is the source of the following dependency conflicts.\n",
      "pandas-profiling 3.2.0 requires joblib~=1.1.0, but you have joblib 1.4.2 which is incompatible.\n",
      "contourpy 1.2.0 requires numpy<2.0,>=1.20, but you have numpy 2.2.6 which is incompatible.\n",
      "numba 0.60.0 requires numpy<2.1,>=1.22, but you have numpy 2.2.6 which is incompatible.\n",
      "tensorflow 2.19.0 requires numpy<2.2.0,>=1.26.0, but you have numpy 2.2.6 which is incompatible.\n",
      "streamlit 1.32.0 requires numpy<2,>=1.19.3, but you have numpy 2.2.6 which is incompatible.\n",
      "streamlit 1.32.0 requires protobuf<5,>=3.20, but you have protobuf 5.29.4 which is incompatible.\n",
      "streamlit 1.32.0 requires rich<14,>=10.14.0, but you have rich 14.0.0 which is incompatible.\n",
      "pywavelets 1.5.0 requires numpy<2.0,>=1.22.4, but you have numpy 2.2.6 which is incompatible.\u001b[0m\u001b[31m\n",
      "\u001b[0mSuccessfully installed numpy-2.2.6\n"
     ]
    }
   ],
   "source": [
    "!pip install --upgrade numpy"
   ]
  },
  {
   "cell_type": "code",
   "execution_count": 2,
   "id": "fcbdca1d-a7b1-483b-bec8-27c3d4b4d26c",
   "metadata": {},
   "outputs": [
    {
     "name": "stdout",
     "output_type": "stream",
     "text": [
      "Found existing installation: numpy 2.2.6\n",
      "Uninstalling numpy-2.2.6:\n",
      "  Successfully uninstalled numpy-2.2.6\n",
      "Collecting numpy<2.0\n",
      "  Using cached numpy-1.26.4-cp312-cp312-macosx_11_0_arm64.whl.metadata (61 kB)\n",
      "Using cached numpy-1.26.4-cp312-cp312-macosx_11_0_arm64.whl (13.7 MB)\n",
      "Installing collected packages: numpy\n",
      "\u001b[31mERROR: pip's dependency resolver does not currently take into account all the packages that are installed. This behaviour is the source of the following dependency conflicts.\n",
      "pandas-profiling 3.2.0 requires joblib~=1.1.0, but you have joblib 1.4.2 which is incompatible.\n",
      "thinc 8.3.6 requires numpy<3.0.0,>=2.0.0, but you have numpy 1.26.4 which is incompatible.\n",
      "streamlit 1.32.0 requires protobuf<5,>=3.20, but you have protobuf 5.29.4 which is incompatible.\n",
      "streamlit 1.32.0 requires rich<14,>=10.14.0, but you have rich 14.0.0 which is incompatible.\u001b[0m\u001b[31m\n",
      "\u001b[0mSuccessfully installed numpy-1.26.4\n"
     ]
    }
   ],
   "source": [
    "!pip uninstall -y numpy\n",
    "!pip install \"numpy<2.0\""
   ]
  },
  {
   "cell_type": "code",
   "execution_count": 3,
   "id": "179d1f04-f842-49b7-b6f8-f950b124c061",
   "metadata": {},
   "outputs": [
    {
     "name": "stdout",
     "output_type": "stream",
     "text": [
      "1.26.4\n",
      "2.2.2\n"
     ]
    }
   ],
   "source": [
    "import numpy as np\n",
    "import pandas as pd\n",
    "print(np.__version__)\n",
    "print(pd.__version__)\n"
   ]
  },
  {
   "cell_type": "code",
   "execution_count": 3,
   "id": "e363638e-206f-48cb-95cf-f3a2fc42dea6",
   "metadata": {},
   "outputs": [
    {
     "data": {
      "text/plain": [
       "(200083, 5)"
      ]
     },
     "execution_count": 3,
     "metadata": {},
     "output_type": "execute_result"
    }
   ],
   "source": [
    "import pandas as pd\n",
    "df = pd.read_parquet('https://storage.googleapis.com/msca-bdp-data-open/news_final_project/news_final_project.parquet', engine='pyarrow')\n",
    "df.shape"
   ]
  },
  {
   "cell_type": "code",
   "execution_count": 3,
   "id": "ac4446ea-4935-4a82-bbff-320584c393a2",
   "metadata": {},
   "outputs": [
    {
     "data": {
      "text/html": [
       "<div>\n",
       "<style scoped>\n",
       "    .dataframe tbody tr th:only-of-type {\n",
       "        vertical-align: middle;\n",
       "    }\n",
       "\n",
       "    .dataframe tbody tr th {\n",
       "        vertical-align: top;\n",
       "    }\n",
       "\n",
       "    .dataframe thead th {\n",
       "        text-align: right;\n",
       "    }\n",
       "</style>\n",
       "<table border=\"1\" class=\"dataframe\">\n",
       "  <thead>\n",
       "    <tr style=\"text-align: right;\">\n",
       "      <th></th>\n",
       "      <th>url</th>\n",
       "      <th>date</th>\n",
       "      <th>language</th>\n",
       "      <th>title</th>\n",
       "      <th>text</th>\n",
       "    </tr>\n",
       "  </thead>\n",
       "  <tbody>\n",
       "    <tr>\n",
       "      <th>0</th>\n",
       "      <td>http://businessnewsthisweek.com/business/infog...</td>\n",
       "      <td>2023-05-20</td>\n",
       "      <td>en</td>\n",
       "      <td>Infogain AI Business Solutions Now Available i...</td>\n",
       "      <td>\\n\\nInfogain AI Business Solutions Now Availab...</td>\n",
       "    </tr>\n",
       "    <tr>\n",
       "      <th>1</th>\n",
       "      <td>https://allafrica.com/stories/202504250184.html</td>\n",
       "      <td>2025-04-25</td>\n",
       "      <td>en</td>\n",
       "      <td>Africa: AI Policies in Africa - Lessons From G...</td>\n",
       "      <td>\\nAfrica: AI Policies in Africa - Lessons From...</td>\n",
       "    </tr>\n",
       "    <tr>\n",
       "      <th>2</th>\n",
       "      <td>https://asiatimes.com/2023/07/yang-lan-intervi...</td>\n",
       "      <td>2023-07-25</td>\n",
       "      <td>en</td>\n",
       "      <td>Yang Lan interviews academics on AI developmen...</td>\n",
       "      <td>\\nYang Lan interviews academics on AI developm...</td>\n",
       "    </tr>\n",
       "    <tr>\n",
       "      <th>3</th>\n",
       "      <td>https://cdn.meritalk.com/articles/commerce-nom...</td>\n",
       "      <td>2025-02-04</td>\n",
       "      <td>en</td>\n",
       "      <td>Commerce Nominee Promises Increased Domestic A...</td>\n",
       "      <td>\\nCommerce Nominee Promises Increased Domestic...</td>\n",
       "    </tr>\n",
       "    <tr>\n",
       "      <th>4</th>\n",
       "      <td>https://citylife.capetown/hmn/uncategorized/re...</td>\n",
       "      <td>2023-11-11</td>\n",
       "      <td>en</td>\n",
       "      <td>Revolutionizing the Manufacturing Industry: Th...</td>\n",
       "      <td>Revolutionizing the Manufacturing Industry:...</td>\n",
       "    </tr>\n",
       "    <tr>\n",
       "      <th>5</th>\n",
       "      <td>https://citylife.capetown/iw/uncategorized/cou...</td>\n",
       "      <td>2023-12-10</td>\n",
       "      <td>en</td>\n",
       "      <td>האם AI ובן אדם יכולים להתאהב?</td>\n",
       "      <td>האם AI ובן אדם יכולים להתאהב?    \\n  \\n\\nעבור...</td>\n",
       "    </tr>\n",
       "    <tr>\n",
       "      <th>6</th>\n",
       "      <td>https://citylife.capetown/uncategorized/ai-cha...</td>\n",
       "      <td>2023-08-02</td>\n",
       "      <td>en</td>\n",
       "      <td>The Challenge of Falsehoods in AI Chatbots</td>\n",
       "      <td>\\n\\nThe Challenge of Falsehoods in AI Chatbots...</td>\n",
       "    </tr>\n",
       "    <tr>\n",
       "      <th>7</th>\n",
       "      <td>https://digitalmediawire.com/2024/10/08/meta-d...</td>\n",
       "      <td>2024-10-09</td>\n",
       "      <td>en</td>\n",
       "      <td>Meta Debuts New Generative AI Tools For Video-...</td>\n",
       "      <td>\\n\\nMeta Debuts New Generative AI Tools For V...</td>\n",
       "    </tr>\n",
       "    <tr>\n",
       "      <th>8</th>\n",
       "      <td>https://drinksretailingnews.co.uk/news/fullsto...</td>\n",
       "      <td>2023-03-30</td>\n",
       "      <td>en</td>\n",
       "      <td>Can AI benefit drinks retailers? - Drinks Reta...</td>\n",
       "      <td>\\n\\n         \\nCan AI benefit drinks retailers...</td>\n",
       "    </tr>\n",
       "    <tr>\n",
       "      <th>9</th>\n",
       "      <td>https://earthnewspaper.substack.com/p/january-...</td>\n",
       "      <td>2025-01-29</td>\n",
       "      <td>en</td>\n",
       "      <td>January 29, 2025, 25 Posts Published And Archi...</td>\n",
       "      <td>\\n\\nJanuary 29, 2025, 25 Posts Published And A...</td>\n",
       "    </tr>\n",
       "  </tbody>\n",
       "</table>\n",
       "</div>"
      ],
      "text/plain": [
       "                                                 url        date language  \\\n",
       "0  http://businessnewsthisweek.com/business/infog...  2023-05-20       en   \n",
       "1    https://allafrica.com/stories/202504250184.html  2025-04-25       en   \n",
       "2  https://asiatimes.com/2023/07/yang-lan-intervi...  2023-07-25       en   \n",
       "3  https://cdn.meritalk.com/articles/commerce-nom...  2025-02-04       en   \n",
       "4  https://citylife.capetown/hmn/uncategorized/re...  2023-11-11       en   \n",
       "5  https://citylife.capetown/iw/uncategorized/cou...  2023-12-10       en   \n",
       "6  https://citylife.capetown/uncategorized/ai-cha...  2023-08-02       en   \n",
       "7  https://digitalmediawire.com/2024/10/08/meta-d...  2024-10-09       en   \n",
       "8  https://drinksretailingnews.co.uk/news/fullsto...  2023-03-30       en   \n",
       "9  https://earthnewspaper.substack.com/p/january-...  2025-01-29       en   \n",
       "\n",
       "                                               title  \\\n",
       "0  Infogain AI Business Solutions Now Available i...   \n",
       "1  Africa: AI Policies in Africa - Lessons From G...   \n",
       "2  Yang Lan interviews academics on AI developmen...   \n",
       "3  Commerce Nominee Promises Increased Domestic A...   \n",
       "4  Revolutionizing the Manufacturing Industry: Th...   \n",
       "5                      האם AI ובן אדם יכולים להתאהב?   \n",
       "6         The Challenge of Falsehoods in AI Chatbots   \n",
       "7  Meta Debuts New Generative AI Tools For Video-...   \n",
       "8  Can AI benefit drinks retailers? - Drinks Reta...   \n",
       "9  January 29, 2025, 25 Posts Published And Archi...   \n",
       "\n",
       "                                                text  \n",
       "0  \\n\\nInfogain AI Business Solutions Now Availab...  \n",
       "1  \\nAfrica: AI Policies in Africa - Lessons From...  \n",
       "2  \\nYang Lan interviews academics on AI developm...  \n",
       "3  \\nCommerce Nominee Promises Increased Domestic...  \n",
       "4     Revolutionizing the Manufacturing Industry:...  \n",
       "5   האם AI ובן אדם יכולים להתאהב?    \\n  \\n\\nעבור...  \n",
       "6  \\n\\nThe Challenge of Falsehoods in AI Chatbots...  \n",
       "7   \\n\\nMeta Debuts New Generative AI Tools For V...  \n",
       "8  \\n\\n         \\nCan AI benefit drinks retailers...  \n",
       "9  \\n\\nJanuary 29, 2025, 25 Posts Published And A...  "
      ]
     },
     "execution_count": 3,
     "metadata": {},
     "output_type": "execute_result"
    }
   ],
   "source": [
    "df.head(10)"
   ]
  },
  {
   "cell_type": "code",
   "execution_count": 4,
   "id": "24f1de0d-f5d3-4291-be4c-b24a9fdd6c28",
   "metadata": {},
   "outputs": [
    {
     "name": "stdout",
     "output_type": "stream",
     "text": [
      "Index(['url', 'date', 'language', 'title', 'text'], dtype='object')\n"
     ]
    }
   ],
   "source": [
    "print(df.columns)"
   ]
  },
  {
   "cell_type": "code",
   "execution_count": 5,
   "id": "b70bde19-a768-4418-93d7-02fb0bfc690e",
   "metadata": {},
   "outputs": [],
   "source": [
    "df = df[df['text'].notnull() & df['text'].str.strip().ne('')]"
   ]
  },
  {
   "cell_type": "code",
   "execution_count": 6,
   "id": "9175dae1-e185-4f41-94fd-78dd6d0e01c1",
   "metadata": {},
   "outputs": [
    {
     "name": "stdout",
     "output_type": "stream",
     "text": [
      "(200083, 5)\n"
     ]
    }
   ],
   "source": [
    "print(df.shape)"
   ]
  },
  {
   "cell_type": "code",
   "execution_count": 9,
   "id": "0bbf3dbd-8888-4f50-b2a6-02c4209e7f98",
   "metadata": {},
   "outputs": [
    {
     "name": "stdout",
     "output_type": "stream",
     "text": [
      "Requirement already satisfied: nltk in /opt/anaconda3/lib/python3.12/site-packages (3.9.1)\n",
      "Requirement already satisfied: click in /opt/anaconda3/lib/python3.12/site-packages (from nltk) (8.1.7)\n",
      "Requirement already satisfied: joblib in /opt/anaconda3/lib/python3.12/site-packages (from nltk) (1.4.2)\n",
      "Requirement already satisfied: regex>=2021.8.3 in /opt/anaconda3/lib/python3.12/site-packages (from nltk) (2023.10.3)\n",
      "Requirement already satisfied: tqdm in /opt/anaconda3/lib/python3.12/site-packages (from nltk) (4.66.4)\n",
      "Note: you may need to restart the kernel to use updated packages.\n"
     ]
    }
   ],
   "source": [
    "pip install nltk"
   ]
  },
  {
   "cell_type": "code",
   "execution_count": 7,
   "id": "496aff4a-5ce3-4e43-8f88-64833913c5ff",
   "metadata": {},
   "outputs": [
    {
     "name": "stderr",
     "output_type": "stream",
     "text": [
      "[nltk_data] Downloading package stopwords to\n",
      "[nltk_data]     /Users/akankshamathpati/nltk_data...\n",
      "[nltk_data]   Package stopwords is already up-to-date!\n",
      "[nltk_data] Downloading package wordnet to\n",
      "[nltk_data]     /Users/akankshamathpati/nltk_data...\n",
      "[nltk_data]   Package wordnet is already up-to-date!\n"
     ]
    },
    {
     "data": {
      "text/plain": [
       "True"
      ]
     },
     "execution_count": 7,
     "metadata": {},
     "output_type": "execute_result"
    }
   ],
   "source": [
    "import nltk\n",
    "nltk.download('stopwords')\n",
    "nltk.download('wordnet')"
   ]
  },
  {
   "cell_type": "code",
   "execution_count": 14,
   "id": "62f6556f-ad8e-4905-9878-4592026c42a8",
   "metadata": {},
   "outputs": [
    {
     "name": "stderr",
     "output_type": "stream",
     "text": [
      "[nltk_data] Downloading package punkt to\n",
      "[nltk_data]     /Users/akankshamathpati/nltk_data...\n",
      "[nltk_data]   Package punkt is already up-to-date!\n"
     ]
    },
    {
     "data": {
      "text/plain": [
       "True"
      ]
     },
     "execution_count": 14,
     "metadata": {},
     "output_type": "execute_result"
    }
   ],
   "source": [
    "import nltk\n",
    "nltk.download('punkt')"
   ]
  },
  {
   "cell_type": "code",
   "execution_count": 16,
   "id": "c9a7fb20-ea1b-46e7-bb41-2bbb9d0574d9",
   "metadata": {},
   "outputs": [
    {
     "name": "stderr",
     "output_type": "stream",
     "text": [
      "[nltk_data] Downloading package punkt_tab to\n",
      "[nltk_data]     /Users/akankshamathpati/nltk_data...\n",
      "[nltk_data]   Package punkt_tab is already up-to-date!\n"
     ]
    },
    {
     "data": {
      "text/plain": [
       "True"
      ]
     },
     "execution_count": 16,
     "metadata": {},
     "output_type": "execute_result"
    }
   ],
   "source": [
    " import nltk\n",
    " nltk.download('punkt_tab')"
   ]
  },
  {
   "cell_type": "code",
   "execution_count": 18,
   "id": "9930ed0c-4772-49ba-8128-7645a9412281",
   "metadata": {},
   "outputs": [],
   "source": [
    "import pandas as pd\n",
    "import numpy as np\n",
    "import matplotlib.pyplot as plt\n",
    "import re\n",
    "import nltk\n",
    "from nltk.corpus import stopwords\n",
    "from nltk.stem import WordNetLemmatizer\n",
    "from sklearn.feature_extraction.text import CountVectorizer\n",
    "from wordcloud import WordCloud"
   ]
  },
  {
   "cell_type": "code",
   "execution_count": 20,
   "id": "898af6ce-91af-43a8-94fd-f9bdc98d854c",
   "metadata": {},
   "outputs": [],
   "source": [
    "import re\n",
    "from langdetect import detect, LangDetectException\n",
    "from nltk.corpus import stopwords\n",
    "from nltk.tokenize import word_tokenize\n",
    "from nltk.stem import WordNetLemmatizer\n",
    "from tqdm.auto import tqdm\n",
    "\n",
    "# Initialize NLP utilities\n",
    "stop_words = set(stopwords.words('english'))\n",
    "lemmatizer = WordNetLemmatizer()\n",
    "\n",
    "def is_english(text):\n",
    "    try:\n",
    "        return detect(text) == 'en'\n",
    "    except LangDetectException:\n",
    "        return False\n",
    "\n",
    "def tokenize_lemmatize(text):\n",
    "    # Tokenize → filter → lemmatize\n",
    "    tokens = word_tokenize(text.lower())\n",
    "    return [\n",
    "        lemmatizer.lemmatize(tok)\n",
    "        for tok in tokens\n",
    "        if tok.isalpha() and tok not in stop_words\n",
    "    ]\n",
    "\n",
    "def clean_text(text):\n",
    "    # basic whitespace and URL cleanup\n",
    "    text = re.sub(r'\\n+', ' ', text)\n",
    "    text = re.sub(r'\\\\n+', ' ', text)\n",
    "    text = re.sub(r'\\s+', ' ', text)\n",
    "    text = re.sub(r'http\\S+|www\\S+', '', text)\n",
    "    # strip image metadata tokens and dimension specs\n",
    "    text = re.sub(r\"\\b(px|jpeg|jpg|png|rawpixel|editorial|image|photo|stock)\\b\", \"\", text)\n",
    "    text = re.sub(r\"\\b\\d{2,4}x\\d{2,4}\\b\", \"\", text)\n",
    "    text = re.sub(r'<.*?>', '', text)\n",
    "    # → convert to lowercase *before* stripping non-letters\n",
    "    text = text.lower()\n",
    "    # keep only a–z and spaces\n",
    "    text = re.sub(r'[^a-z\\s]', '', text)\n",
    "    return text.strip()\n",
    "\n",
    "def full_cleaning_pipeline(df):\n",
    "    df = df.copy()\n",
    "    df.dropna(subset=['text'], inplace=True)\n",
    "    df = df[df['text'].str.strip().astype(bool)]\n",
    "    df.drop_duplicates(subset=['text'], inplace=True)\n",
    "\n",
    "    # Clean and filter by length\n",
    "    tqdm.pandas()\n",
    "    df['cleaned_text'] = df['text'].progress_apply(clean_text)\n",
    "    df = df[df['cleaned_text'].str.len() > 100]\n",
    "\n",
    "    # Language filtering\n",
    "    tqdm.pandas()\n",
    "    df['is_english'] = df['cleaned_text'].progress_apply(is_english)\n",
    "    df = df[df['is_english']].drop(columns=['is_english'])\n",
    "\n",
    "    # Tokenize, remove stopwords, lemmatize\n",
    "    tqdm.pandas()\n",
    "    df['tokens'] = df['cleaned_text'].progress_apply(tokenize_lemmatize)\n",
    "\n",
    "    return df\n"
   ]
  },
  {
   "cell_type": "code",
   "execution_count": 22,
   "id": "ad003e24-0ca2-45d9-9d0e-9067caf493f6",
   "metadata": {},
   "outputs": [],
   "source": [
    "from tqdm import tqdm\n",
    "tqdm.pandas()"
   ]
  },
  {
   "cell_type": "code",
   "execution_count": 24,
   "id": "01fd0881-6d9c-439d-a425-6f9884c55bf1",
   "metadata": {},
   "outputs": [
    {
     "name": "stdout",
     "output_type": "stream",
     "text": [
      "Requirement already satisfied: langdetect in /opt/anaconda3/lib/python3.12/site-packages (1.0.9)\n",
      "Requirement already satisfied: six in /opt/anaconda3/lib/python3.12/site-packages (from langdetect) (1.16.0)\n",
      "Note: you may need to restart the kernel to use updated packages.\n"
     ]
    }
   ],
   "source": [
    "pip install langdetect"
   ]
  },
  {
   "cell_type": "code",
   "execution_count": 26,
   "id": "46a22d4a-039d-4dff-9d21-3627e6c8ebbd",
   "metadata": {},
   "outputs": [],
   "source": [
    "import pandas as pd\n",
    "import re\n",
    "from langdetect import detect\n",
    "from langdetect.lang_detect_exception import LangDetectException\n",
    "from tqdm import tqdm"
   ]
  },
  {
   "cell_type": "code",
   "execution_count": 28,
   "id": "17b91a71-274e-449c-a54e-3ab9de00646e",
   "metadata": {},
   "outputs": [
    {
     "name": "stderr",
     "output_type": "stream",
     "text": [
      "100%|██████████| 199536/199536 [01:50<00:00, 1808.65it/s]\n",
      "100%|██████████| 198912/198912 [17:49<00:00, 186.01it/s]\n",
      "100%|██████████| 198737/198737 [08:58<00:00, 368.76it/s]\n"
     ]
    }
   ],
   "source": [
    "df_cleaned = full_cleaning_pipeline(df)"
   ]
  },
  {
   "cell_type": "code",
   "execution_count": 30,
   "id": "3181e428-f082-4ad3-8243-cb32a8c4726e",
   "metadata": {},
   "outputs": [
    {
     "name": "stdout",
     "output_type": "stream",
     "text": [
      "(198737, 7)\n"
     ]
    }
   ],
   "source": [
    "print(df_cleaned.shape)"
   ]
  },
  {
   "cell_type": "code",
   "execution_count": 32,
   "id": "6ab27af4-4d04-4650-918a-631f349cfcc7",
   "metadata": {},
   "outputs": [
    {
     "data": {
      "text/html": [
       "<div>\n",
       "<style scoped>\n",
       "    .dataframe tbody tr th:only-of-type {\n",
       "        vertical-align: middle;\n",
       "    }\n",
       "\n",
       "    .dataframe tbody tr th {\n",
       "        vertical-align: top;\n",
       "    }\n",
       "\n",
       "    .dataframe thead th {\n",
       "        text-align: right;\n",
       "    }\n",
       "</style>\n",
       "<table border=\"1\" class=\"dataframe\">\n",
       "  <thead>\n",
       "    <tr style=\"text-align: right;\">\n",
       "      <th></th>\n",
       "      <th>url</th>\n",
       "      <th>date</th>\n",
       "      <th>language</th>\n",
       "      <th>title</th>\n",
       "      <th>text</th>\n",
       "      <th>cleaned_text</th>\n",
       "      <th>tokens</th>\n",
       "    </tr>\n",
       "  </thead>\n",
       "  <tbody>\n",
       "    <tr>\n",
       "      <th>0</th>\n",
       "      <td>http://businessnewsthisweek.com/business/infog...</td>\n",
       "      <td>2023-05-20</td>\n",
       "      <td>en</td>\n",
       "      <td>Infogain AI Business Solutions Now Available i...</td>\n",
       "      <td>\\n\\nInfogain AI Business Solutions Now Availab...</td>\n",
       "      <td>infogain ai business solutions now available i...</td>\n",
       "      <td>[infogain, ai, business, solution, available, ...</td>\n",
       "    </tr>\n",
       "    <tr>\n",
       "      <th>1</th>\n",
       "      <td>https://allafrica.com/stories/202504250184.html</td>\n",
       "      <td>2025-04-25</td>\n",
       "      <td>en</td>\n",
       "      <td>Africa: AI Policies in Africa - Lessons From G...</td>\n",
       "      <td>\\nAfrica: AI Policies in Africa - Lessons From...</td>\n",
       "      <td>africa ai policies in africa  lessons from gha...</td>\n",
       "      <td>[africa, ai, policy, africa, lesson, ghana, rw...</td>\n",
       "    </tr>\n",
       "    <tr>\n",
       "      <th>2</th>\n",
       "      <td>https://asiatimes.com/2023/07/yang-lan-intervi...</td>\n",
       "      <td>2023-07-25</td>\n",
       "      <td>en</td>\n",
       "      <td>Yang Lan interviews academics on AI developmen...</td>\n",
       "      <td>\\nYang Lan interviews academics on AI developm...</td>\n",
       "      <td>yang lan interviews academics on ai developmen...</td>\n",
       "      <td>[yang, lan, interview, academic, ai, developme...</td>\n",
       "    </tr>\n",
       "    <tr>\n",
       "      <th>3</th>\n",
       "      <td>https://cdn.meritalk.com/articles/commerce-nom...</td>\n",
       "      <td>2025-02-04</td>\n",
       "      <td>en</td>\n",
       "      <td>Commerce Nominee Promises Increased Domestic A...</td>\n",
       "      <td>\\nCommerce Nominee Promises Increased Domestic...</td>\n",
       "      <td>commerce nominee promises increased domestic a...</td>\n",
       "      <td>[commerce, nominee, promise, increased, domest...</td>\n",
       "    </tr>\n",
       "    <tr>\n",
       "      <th>4</th>\n",
       "      <td>https://citylife.capetown/hmn/uncategorized/re...</td>\n",
       "      <td>2023-11-11</td>\n",
       "      <td>en</td>\n",
       "      <td>Revolutionizing the Manufacturing Industry: Th...</td>\n",
       "      <td>Revolutionizing the Manufacturing Industry:...</td>\n",
       "      <td>revolutionizing the manufacturing industry the...</td>\n",
       "      <td>[revolutionizing, manufacturing, industry, imp...</td>\n",
       "    </tr>\n",
       "  </tbody>\n",
       "</table>\n",
       "</div>"
      ],
      "text/plain": [
       "                                                 url        date language  \\\n",
       "0  http://businessnewsthisweek.com/business/infog...  2023-05-20       en   \n",
       "1    https://allafrica.com/stories/202504250184.html  2025-04-25       en   \n",
       "2  https://asiatimes.com/2023/07/yang-lan-intervi...  2023-07-25       en   \n",
       "3  https://cdn.meritalk.com/articles/commerce-nom...  2025-02-04       en   \n",
       "4  https://citylife.capetown/hmn/uncategorized/re...  2023-11-11       en   \n",
       "\n",
       "                                               title  \\\n",
       "0  Infogain AI Business Solutions Now Available i...   \n",
       "1  Africa: AI Policies in Africa - Lessons From G...   \n",
       "2  Yang Lan interviews academics on AI developmen...   \n",
       "3  Commerce Nominee Promises Increased Domestic A...   \n",
       "4  Revolutionizing the Manufacturing Industry: Th...   \n",
       "\n",
       "                                                text  \\\n",
       "0  \\n\\nInfogain AI Business Solutions Now Availab...   \n",
       "1  \\nAfrica: AI Policies in Africa - Lessons From...   \n",
       "2  \\nYang Lan interviews academics on AI developm...   \n",
       "3  \\nCommerce Nominee Promises Increased Domestic...   \n",
       "4     Revolutionizing the Manufacturing Industry:...   \n",
       "\n",
       "                                        cleaned_text  \\\n",
       "0  infogain ai business solutions now available i...   \n",
       "1  africa ai policies in africa  lessons from gha...   \n",
       "2  yang lan interviews academics on ai developmen...   \n",
       "3  commerce nominee promises increased domestic a...   \n",
       "4  revolutionizing the manufacturing industry the...   \n",
       "\n",
       "                                              tokens  \n",
       "0  [infogain, ai, business, solution, available, ...  \n",
       "1  [africa, ai, policy, africa, lesson, ghana, rw...  \n",
       "2  [yang, lan, interview, academic, ai, developme...  \n",
       "3  [commerce, nominee, promise, increased, domest...  \n",
       "4  [revolutionizing, manufacturing, industry, imp...  "
      ]
     },
     "execution_count": 32,
     "metadata": {},
     "output_type": "execute_result"
    }
   ],
   "source": [
    "df_cleaned.head()"
   ]
  },
  {
   "cell_type": "markdown",
   "id": "a02de609-0856-4d43-a1ca-14ce0f8ed226",
   "metadata": {},
   "source": [
    "### Filtering the irrelevant text"
   ]
  },
  {
   "cell_type": "code",
   "execution_count": 35,
   "id": "d1e2d7b3-4ae5-414a-9509-95fb0352c097",
   "metadata": {},
   "outputs": [],
   "source": [
    "df_cleaned = df_cleaned[df_cleaned['tokens'].apply(len) >= 35]"
   ]
  },
  {
   "cell_type": "code",
   "execution_count": 37,
   "id": "8fae8a1e-137e-4f3f-8744-0b92c7e07e7f",
   "metadata": {},
   "outputs": [
    {
     "name": "stdout",
     "output_type": "stream",
     "text": [
      "(198465, 7)\n"
     ]
    }
   ],
   "source": [
    "print(df_cleaned.shape)"
   ]
  },
  {
   "cell_type": "code",
   "execution_count": 39,
   "id": "1ad52873-a079-4a18-a5ee-4b4e421dd58e",
   "metadata": {},
   "outputs": [],
   "source": [
    "ai_keywords = [\n",
    "    'artificial intelligence',\n",
    "    'machine learning',\n",
    "    'deep learning',\n",
    "    'neural network',\n",
    "    'natural language processing',\n",
    "    'computer vision',\n",
    "    'generative ai',\n",
    "    'chatgpt',\n",
    "    'openai',\n",
    "    'transformer model',\n",
    "    'automation',\n",
    "    'llm',\n",
    "    'bert',\n",
    "    'robotic process automation'\n",
    "]\n"
   ]
  },
  {
   "cell_type": "code",
   "execution_count": 41,
   "id": "d05ddb93-478d-4ca3-9e24-185cb64e6275",
   "metadata": {},
   "outputs": [
    {
     "name": "stdout",
     "output_type": "stream",
     "text": [
      "Relevant articles retained: 157506 out of 198465\n"
     ]
    }
   ],
   "source": [
    "# Step 1: Compile a regex pattern for efficiency\n",
    "pattern = r'\\b(' + '|'.join([re.escape(k.lower()) for k in ai_keywords]) + r')\\b'\n",
    "compiled_pattern = re.compile(pattern)\n",
    "\n",
    "# Step 2: Create df_relevant by filtering df_cleaned\n",
    "df_relevant = df_cleaned[df_cleaned['cleaned_text'].astype(str).str.lower().apply(lambda x: bool(compiled_pattern.search(x)))]\n",
    "\n",
    "# Optional: View how many articles were retained\n",
    "print(f\"Relevant articles retained: {len(df_relevant)} out of {len(df_cleaned)}\")"
   ]
  },
  {
   "cell_type": "code",
   "execution_count": 43,
   "id": "85adff7f-741f-4b00-8c48-24cc06dc790a",
   "metadata": {},
   "outputs": [
    {
     "name": "stdout",
     "output_type": "stream",
     "text": [
      "(157506, 7)\n"
     ]
    }
   ],
   "source": [
    "print(df_relevant.shape)"
   ]
  },
  {
   "cell_type": "code",
   "execution_count": 45,
   "id": "479ac5b2-53a9-4b87-9a35-5d69a374aa63",
   "metadata": {},
   "outputs": [
    {
     "data": {
      "text/html": [
       "<div>\n",
       "<style scoped>\n",
       "    .dataframe tbody tr th:only-of-type {\n",
       "        vertical-align: middle;\n",
       "    }\n",
       "\n",
       "    .dataframe tbody tr th {\n",
       "        vertical-align: top;\n",
       "    }\n",
       "\n",
       "    .dataframe thead th {\n",
       "        text-align: right;\n",
       "    }\n",
       "</style>\n",
       "<table border=\"1\" class=\"dataframe\">\n",
       "  <thead>\n",
       "    <tr style=\"text-align: right;\">\n",
       "      <th></th>\n",
       "      <th>url</th>\n",
       "      <th>date</th>\n",
       "      <th>language</th>\n",
       "      <th>title</th>\n",
       "      <th>text</th>\n",
       "      <th>cleaned_text</th>\n",
       "      <th>tokens</th>\n",
       "    </tr>\n",
       "  </thead>\n",
       "  <tbody>\n",
       "    <tr>\n",
       "      <th>0</th>\n",
       "      <td>http://businessnewsthisweek.com/business/infog...</td>\n",
       "      <td>2023-05-20</td>\n",
       "      <td>en</td>\n",
       "      <td>Infogain AI Business Solutions Now Available i...</td>\n",
       "      <td>\\n\\nInfogain AI Business Solutions Now Availab...</td>\n",
       "      <td>infogain ai business solutions now available i...</td>\n",
       "      <td>[infogain, ai, business, solution, available, ...</td>\n",
       "    </tr>\n",
       "    <tr>\n",
       "      <th>1</th>\n",
       "      <td>https://allafrica.com/stories/202504250184.html</td>\n",
       "      <td>2025-04-25</td>\n",
       "      <td>en</td>\n",
       "      <td>Africa: AI Policies in Africa - Lessons From G...</td>\n",
       "      <td>\\nAfrica: AI Policies in Africa - Lessons From...</td>\n",
       "      <td>africa ai policies in africa  lessons from gha...</td>\n",
       "      <td>[africa, ai, policy, africa, lesson, ghana, rw...</td>\n",
       "    </tr>\n",
       "    <tr>\n",
       "      <th>2</th>\n",
       "      <td>https://asiatimes.com/2023/07/yang-lan-intervi...</td>\n",
       "      <td>2023-07-25</td>\n",
       "      <td>en</td>\n",
       "      <td>Yang Lan interviews academics on AI developmen...</td>\n",
       "      <td>\\nYang Lan interviews academics on AI developm...</td>\n",
       "      <td>yang lan interviews academics on ai developmen...</td>\n",
       "      <td>[yang, lan, interview, academic, ai, developme...</td>\n",
       "    </tr>\n",
       "    <tr>\n",
       "      <th>3</th>\n",
       "      <td>https://cdn.meritalk.com/articles/commerce-nom...</td>\n",
       "      <td>2025-02-04</td>\n",
       "      <td>en</td>\n",
       "      <td>Commerce Nominee Promises Increased Domestic A...</td>\n",
       "      <td>\\nCommerce Nominee Promises Increased Domestic...</td>\n",
       "      <td>commerce nominee promises increased domestic a...</td>\n",
       "      <td>[commerce, nominee, promise, increased, domest...</td>\n",
       "    </tr>\n",
       "    <tr>\n",
       "      <th>4</th>\n",
       "      <td>https://citylife.capetown/hmn/uncategorized/re...</td>\n",
       "      <td>2023-11-11</td>\n",
       "      <td>en</td>\n",
       "      <td>Revolutionizing the Manufacturing Industry: Th...</td>\n",
       "      <td>Revolutionizing the Manufacturing Industry:...</td>\n",
       "      <td>revolutionizing the manufacturing industry the...</td>\n",
       "      <td>[revolutionizing, manufacturing, industry, imp...</td>\n",
       "    </tr>\n",
       "    <tr>\n",
       "      <th>...</th>\n",
       "      <td>...</td>\n",
       "      <td>...</td>\n",
       "      <td>...</td>\n",
       "      <td>...</td>\n",
       "      <td>...</td>\n",
       "      <td>...</td>\n",
       "      <td>...</td>\n",
       "    </tr>\n",
       "    <tr>\n",
       "      <th>200076</th>\n",
       "      <td>https://www.wndu.com/prnewswire/2023/11/15/woo...</td>\n",
       "      <td>2023-11-15</td>\n",
       "      <td>en</td>\n",
       "      <td>Woolpert and Allvision Forge Strategic Agreeme...</td>\n",
       "      <td>Woolpert and Allvision Forge Strategic Agreeme...</td>\n",
       "      <td>woolpert and allvision forge strategic agreeme...</td>\n",
       "      <td>[woolpert, allvision, forge, strategic, agreem...</td>\n",
       "    </tr>\n",
       "    <tr>\n",
       "      <th>200077</th>\n",
       "      <td>https://www.wusf.org/2024-05-17/openais-new-ch...</td>\n",
       "      <td>2024-05-17</td>\n",
       "      <td>en</td>\n",
       "      <td>OpenAI's new ChatGPT talks and sings. But how ...</td>\n",
       "      <td>\\nOpenAI's new ChatGPT talks and sings. But ho...</td>\n",
       "      <td>openais new chatgpt talks and sings but how hu...</td>\n",
       "      <td>[openais, new, chatgpt, talk, sings, human, wu...</td>\n",
       "    </tr>\n",
       "    <tr>\n",
       "      <th>200078</th>\n",
       "      <td>https://www.wuwf.org/2024-06-03/all-eyes-on-ra...</td>\n",
       "      <td>2024-06-03</td>\n",
       "      <td>en</td>\n",
       "      <td>‘All eyes on Rafah’ is the Internet's most vir...</td>\n",
       "      <td>\\n‘All eyes on Rafah’ is the Internet's most v...</td>\n",
       "      <td>all eyes on rafah is the internets most viral ...</td>\n",
       "      <td>[eye, rafah, internet, viral, ai, two, artist,...</td>\n",
       "    </tr>\n",
       "    <tr>\n",
       "      <th>200079</th>\n",
       "      <td>https://www.zawya.com/en/press-release/compani...</td>\n",
       "      <td>2024-04-15</td>\n",
       "      <td>en</td>\n",
       "      <td>SentinelOne to spotlight Purple AI at GISEC 2024</td>\n",
       "      <td>SentinelOne to spotlight Purple AI at GISEC 20...</td>\n",
       "      <td>sentinelone to spotlight purple ai at gisec go...</td>\n",
       "      <td>[sentinelone, spotlight, purple, ai, gisec, go...</td>\n",
       "    </tr>\n",
       "    <tr>\n",
       "      <th>200080</th>\n",
       "      <td>https://www.zawya.com/en/press-release/governm...</td>\n",
       "      <td>2024-06-13</td>\n",
       "      <td>en</td>\n",
       "      <td>DGHR and DCAI join forces to support the world...</td>\n",
       "      <td>DGHR and DCAI join forces to support the world...</td>\n",
       "      <td>dghr and dcai join forces to support the world...</td>\n",
       "      <td>[dghr, dcai, join, force, support, world, firs...</td>\n",
       "    </tr>\n",
       "  </tbody>\n",
       "</table>\n",
       "<p>157506 rows × 7 columns</p>\n",
       "</div>"
      ],
      "text/plain": [
       "                                                      url        date  \\\n",
       "0       http://businessnewsthisweek.com/business/infog...  2023-05-20   \n",
       "1         https://allafrica.com/stories/202504250184.html  2025-04-25   \n",
       "2       https://asiatimes.com/2023/07/yang-lan-intervi...  2023-07-25   \n",
       "3       https://cdn.meritalk.com/articles/commerce-nom...  2025-02-04   \n",
       "4       https://citylife.capetown/hmn/uncategorized/re...  2023-11-11   \n",
       "...                                                   ...         ...   \n",
       "200076  https://www.wndu.com/prnewswire/2023/11/15/woo...  2023-11-15   \n",
       "200077  https://www.wusf.org/2024-05-17/openais-new-ch...  2024-05-17   \n",
       "200078  https://www.wuwf.org/2024-06-03/all-eyes-on-ra...  2024-06-03   \n",
       "200079  https://www.zawya.com/en/press-release/compani...  2024-04-15   \n",
       "200080  https://www.zawya.com/en/press-release/governm...  2024-06-13   \n",
       "\n",
       "       language                                              title  \\\n",
       "0            en  Infogain AI Business Solutions Now Available i...   \n",
       "1            en  Africa: AI Policies in Africa - Lessons From G...   \n",
       "2            en  Yang Lan interviews academics on AI developmen...   \n",
       "3            en  Commerce Nominee Promises Increased Domestic A...   \n",
       "4            en  Revolutionizing the Manufacturing Industry: Th...   \n",
       "...         ...                                                ...   \n",
       "200076       en  Woolpert and Allvision Forge Strategic Agreeme...   \n",
       "200077       en  OpenAI's new ChatGPT talks and sings. But how ...   \n",
       "200078       en  ‘All eyes on Rafah’ is the Internet's most vir...   \n",
       "200079       en   SentinelOne to spotlight Purple AI at GISEC 2024   \n",
       "200080       en  DGHR and DCAI join forces to support the world...   \n",
       "\n",
       "                                                     text  \\\n",
       "0       \\n\\nInfogain AI Business Solutions Now Availab...   \n",
       "1       \\nAfrica: AI Policies in Africa - Lessons From...   \n",
       "2       \\nYang Lan interviews academics on AI developm...   \n",
       "3       \\nCommerce Nominee Promises Increased Domestic...   \n",
       "4          Revolutionizing the Manufacturing Industry:...   \n",
       "...                                                   ...   \n",
       "200076  Woolpert and Allvision Forge Strategic Agreeme...   \n",
       "200077  \\nOpenAI's new ChatGPT talks and sings. But ho...   \n",
       "200078  \\n‘All eyes on Rafah’ is the Internet's most v...   \n",
       "200079  SentinelOne to spotlight Purple AI at GISEC 20...   \n",
       "200080  DGHR and DCAI join forces to support the world...   \n",
       "\n",
       "                                             cleaned_text  \\\n",
       "0       infogain ai business solutions now available i...   \n",
       "1       africa ai policies in africa  lessons from gha...   \n",
       "2       yang lan interviews academics on ai developmen...   \n",
       "3       commerce nominee promises increased domestic a...   \n",
       "4       revolutionizing the manufacturing industry the...   \n",
       "...                                                   ...   \n",
       "200076  woolpert and allvision forge strategic agreeme...   \n",
       "200077  openais new chatgpt talks and sings but how hu...   \n",
       "200078  all eyes on rafah is the internets most viral ...   \n",
       "200079  sentinelone to spotlight purple ai at gisec go...   \n",
       "200080  dghr and dcai join forces to support the world...   \n",
       "\n",
       "                                                   tokens  \n",
       "0       [infogain, ai, business, solution, available, ...  \n",
       "1       [africa, ai, policy, africa, lesson, ghana, rw...  \n",
       "2       [yang, lan, interview, academic, ai, developme...  \n",
       "3       [commerce, nominee, promise, increased, domest...  \n",
       "4       [revolutionizing, manufacturing, industry, imp...  \n",
       "...                                                   ...  \n",
       "200076  [woolpert, allvision, forge, strategic, agreem...  \n",
       "200077  [openais, new, chatgpt, talk, sings, human, wu...  \n",
       "200078  [eye, rafah, internet, viral, ai, two, artist,...  \n",
       "200079  [sentinelone, spotlight, purple, ai, gisec, go...  \n",
       "200080  [dghr, dcai, join, force, support, world, firs...  \n",
       "\n",
       "[157506 rows x 7 columns]"
      ]
     },
     "execution_count": 45,
     "metadata": {},
     "output_type": "execute_result"
    }
   ],
   "source": [
    "df_relevant"
   ]
  },
  {
   "cell_type": "code",
   "execution_count": 47,
   "id": "cbc90220-a931-497c-aa07-1fd9063024e7",
   "metadata": {},
   "outputs": [],
   "source": [
    "df_relevant.to_csv('ai_articles.csv', index=False)"
   ]
  },
  {
   "cell_type": "markdown",
   "id": "328d8e1d-6df4-40d1-8e73-f5593b511310",
   "metadata": {},
   "source": [
    "### Lets see the data reduction metrics "
   ]
  },
  {
   "cell_type": "code",
   "execution_count": 13,
   "id": "6aaa6f2d-590c-49f3-84c9-97fcae56e42d",
   "metadata": {},
   "outputs": [
    {
     "name": "stdout",
     "output_type": "stream",
     "text": [
      "Initial rows: 200083\n",
      " After dropna(text): 200083 rows  →  0.00% removed\n",
      " After strip empty: 200083 rows  →  0.00% removed\n",
      " After drop_duplicates: 199536 rows  →  0.27% removed\n"
     ]
    },
    {
     "data": {
      "application/vnd.jupyter.widget-view+json": {
       "model_id": "9e5052a032a248308975e38193d676df",
       "version_major": 2,
       "version_minor": 0
      },
      "text/plain": [
       " Cleaning text :   0%|          | 0/199536 [00:00<?, ?it/s]"
      ]
     },
     "metadata": {},
     "output_type": "display_data"
    },
    {
     "name": "stdout",
     "output_type": "stream",
     "text": [
      " After clean+len>100: 198912 rows  →  0.31% removed\n"
     ]
    },
    {
     "data": {
      "application/vnd.jupyter.widget-view+json": {
       "model_id": "d1a562a1de9e4433b194f49a7e650ba3",
       "version_major": 2,
       "version_minor": 0
      },
      "text/plain": [
       " Detecting English :   0%|          | 0/198912 [00:00<?, ?it/s]"
      ]
     },
     "metadata": {},
     "output_type": "display_data"
    },
    {
     "name": "stdout",
     "output_type": "stream",
     "text": [
      " After English filter: 198743 rows  →  0.08% removed\n"
     ]
    },
    {
     "data": {
      "application/vnd.jupyter.widget-view+json": {
       "model_id": "5e25cd2bf18642a6b88590107a7dc836",
       "version_major": 2,
       "version_minor": 0
      },
      "text/plain": [
       " Tokenizing :   0%|          | 0/198743 [00:00<?, ?it/s]"
      ]
     },
     "metadata": {},
     "output_type": "display_data"
    },
    {
     "name": "stdout",
     "output_type": "stream",
     "text": [
      "\n",
      "Final cleaned DF has 198743 rows.\n"
     ]
    }
   ],
   "source": [
    "import re\n",
    "from langdetect import detect, LangDetectException\n",
    "from nltk.corpus import stopwords\n",
    "from nltk.tokenize import word_tokenize\n",
    "from nltk.stem import WordNetLemmatizer\n",
    "from tqdm.auto import tqdm\n",
    "\n",
    "# ——— Helpers ———\n",
    "stop_words = set(stopwords.words('english'))\n",
    "lemmatizer = WordNetLemmatizer()\n",
    "\n",
    "def is_english(text):\n",
    "    try:\n",
    "        return detect(text) == 'en'\n",
    "    except LangDetectException:\n",
    "        return False\n",
    "\n",
    "def tokenize_lemmatize(text):\n",
    "    tokens = word_tokenize(text.lower())\n",
    "    return [\n",
    "        lemmatizer.lemmatize(tok)\n",
    "        for tok in tokens\n",
    "        if tok.isalpha() and tok not in stop_words\n",
    "    ]\n",
    "\n",
    "def clean_text(text):\n",
    "    text = re.sub(r'\\n+', ' ', text)\n",
    "    text = re.sub(r'\\\\n+', ' ', text)\n",
    "    text = re.sub(r'\\s+', ' ', text)\n",
    "    text = re.sub(r'http\\S+|www\\S+', '', text)\n",
    "    text = re.sub(r\"\\b(px|jpeg|jpg|png|rawpixel|editorial|image|photo|stock)\\b\", \"\", text)\n",
    "    text = re.sub(r\"\\b\\d{2,4}x\\d{2,4}\\b\", \"\", text)\n",
    "    text = re.sub(r'<.*?>', '', text)\n",
    "    text = text.lower()\n",
    "    text = re.sub(r'[^a-z\\s]', '', text)\n",
    "    return text.strip()\n",
    "\n",
    "def full_cleaning_pipeline_with_stats(df):\n",
    "    df = df.copy()\n",
    "    initial = df.shape[0]\n",
    "    print(f\"Initial rows: {initial}\")\n",
    "\n",
    "    # 1) Drop NA in 'text'\n",
    "    df = df.dropna(subset=['text'])\n",
    "    after1 = df.shape[0]\n",
    "    print(f\" After dropna(text): {after1} rows  →  {(initial-after1)/initial*100:.2f}% removed\")\n",
    "\n",
    "    # 2) Drop blank/whitespace-only\n",
    "    df = df[df['text'].str.strip().astype(bool)]\n",
    "    after2 = df.shape[0]\n",
    "    print(f\" After strip empty: {after2} rows  →  {(after1-after2)/after1*100:.2f}% removed\")\n",
    "\n",
    "    # 3) Drop duplicates\n",
    "    df = df.drop_duplicates(subset=['text'])\n",
    "    after3 = df.shape[0]\n",
    "    print(f\" After drop_duplicates: {after3} rows  →  {(after2-after3)/after2*100:.2f}% removed\")\n",
    "\n",
    "    # 4) Clean & length filter\n",
    "    tqdm.pandas(desc=\" Cleaning text \")\n",
    "    df['cleaned_text'] = df['text'].progress_apply(clean_text)\n",
    "    before4 = df.shape[0]\n",
    "    df = df[df['cleaned_text'].str.len() > 100]\n",
    "    after4 = df.shape[0]\n",
    "    print(f\" After clean+len>100: {after4} rows  →  {(before4-after4)/before4*100:.2f}% removed\")\n",
    "\n",
    "    # 5) Language filter\n",
    "    tqdm.pandas(desc=\" Detecting English \")\n",
    "    df['is_english'] = df['cleaned_text'].progress_apply(is_english)\n",
    "    before5 = df.shape[0]\n",
    "    df = df[df['is_english']].drop(columns=['is_english'])\n",
    "    after5 = df.shape[0]\n",
    "    print(f\" After English filter: {after5} rows  →  {(before5-after5)/before5*100:.2f}% removed\")\n",
    "\n",
    "    # 6) Tokenize & lemmatize (no rows dropped here)\n",
    "    tqdm.pandas(desc=\" Tokenizing \")\n",
    "    df['tokens'] = df['cleaned_text'].progress_apply(tokenize_lemmatize)\n",
    "\n",
    "    return df\n",
    "\n",
    "# ——— Run it on your DataFrame named `df` ———\n",
    "cleaned_df = full_cleaning_pipeline_with_stats(df)\n",
    "print(f\"\\nFinal cleaned DF has {cleaned_df.shape[0]} rows.\")\n"
   ]
  },
  {
   "cell_type": "code",
   "execution_count": 17,
   "id": "509d5a1a-c2f8-4a4a-a827-ca5918524032",
   "metadata": {},
   "outputs": [
    {
     "name": "stdout",
     "output_type": "stream",
     "text": [
      "Initial                       : 200,083 rows\n",
      "After dropping duplicates     : 198,743 rows  →  0.67% reduction from previous step\n",
      "After English filter          : 198,737 rows  →  0.00% reduction from previous step\n",
      "After token>=35 filter        : 198,465 rows  →  0.14% reduction from previous step\n",
      "After removing irrelevant     : 157,506 rows  →  20.64% reduction from previous step\n",
      "\n",
      "Total reduction: 200,083 → 157,506 rows  →  21.28% overall reduction\n"
     ]
    }
   ],
   "source": [
    "# your recorded row‐counts at each stage\n",
    "steps = {\n",
    "    \"Initial\":                   200083,\n",
    "    \"After dropping duplicates\": 198743,\n",
    "    \"After English filter\":      198737,\n",
    "    \"After token>=35 filter\":    198465,\n",
    "    \"After removing irrelevant\": 157506,\n",
    "}\n",
    "\n",
    "prev_count = None\n",
    "for step, count in steps.items():\n",
    "    if prev_count is None:\n",
    "        print(f\"{step:30s}: {count:,d} rows\")\n",
    "    else:\n",
    "        red_pct = (prev_count - count) / prev_count * 100\n",
    "        print(f\"{step:30s}: {count:,d} rows  →  {red_pct:.2f}% reduction from previous step\")\n",
    "    prev_count = count\n",
    "\n",
    "# total reduction from Initial → Final\n",
    "initial = steps[\"Initial\"]\n",
    "final   = steps[\"After removing irrelevant\"]\n",
    "total_red = (initial - final) / initial * 100\n",
    "print(f\"\\nTotal reduction: {initial:,d} → {final:,d} rows  →  {total_red:.2f}% overall reduction\")\n"
   ]
  },
  {
   "cell_type": "code",
   "execution_count": 23,
   "id": "6c364c90-d7ae-4b54-b2ff-85e0413870ef",
   "metadata": {},
   "outputs": [
    {
     "data": {
      "image/png": "[encoded data removed]",
      "text/plain": [
       "<Figure size 800x500 with 1 Axes>"
      ]
     },
     "metadata": {},
     "output_type": "display_data"
    }
   ],
   "source": [
    "import matplotlib.pyplot as plt\n",
    "\n",
    "# Define cleaning steps and counts\n",
    "steps = [\n",
    "    \"Initial (raw)\",\n",
    "    \"Text Pre-Processing\",\n",
    "    \"English filter\",\n",
    "    \"Removing token>=35\",\n",
    "    \"Irrelevant Articles\"\n",
    "]\n",
    "counts = [200083, 198743, 198737, 198465, 157506]\n",
    "\n",
    "x = list(range(len(counts)))\n",
    "\n",
    "plt.figure(figsize=(8, 5))\n",
    "plt.plot(x, counts, marker='o', linewidth=2)\n",
    "plt.fill_between(x, counts, alpha=0.3)\n",
    "plt.xticks(x, steps, rotation=45, ha=\"right\")\n",
    "plt.ylabel(\"Number of Articles\")\n",
    "plt.title(\"Data Reduction Across Cleaning Steps (Area Chart)\")\n",
    "plt.tight_layout()\n",
    "plt.show()\n"
   ]
  },
  {
   "cell_type": "code",
   "execution_count": null,
   "id": "a53ae1e8-3b94-4085-8541-a9be41a2b665",
   "metadata": {},
   "outputs": [],
   "source": []
  }
 ],
 "metadata": {
  "environment": {
   "kernel": "rag_env",
   "name": "workbench-notebooks.m128",
   "type": "gcloud",
   "uri": "us-docker.pkg.dev/deeplearning-platform-release/gcr.io/workbench-notebooks:m128"
  },
  "kernelspec": {
   "display_name": "Python 3 (ipykernel)",
   "language": "python",
   "name": "python3"
  },
  "language_info": {
   "codemirror_mode": {
    "name": "ipython",
    "version": 3
   },
   "file_extension": ".py",
   "mimetype": "text/x-python",
   "name": "python",
   "nbconvert_exporter": "python",
   "pygments_lexer": "ipython3",
   "version": "3.12.4"
  }
 },
 "nbformat": 4,
 "nbformat_minor": 5
}
